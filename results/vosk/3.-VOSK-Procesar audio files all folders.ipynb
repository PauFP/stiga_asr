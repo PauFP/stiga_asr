{
 "cells": [
  {
   "cell_type": "code",
   "execution_count": 1,
   "metadata": {},
   "outputs": [],
   "source": [
    "from vosk import Model, KaldiRecognizer, SetLogLevel\n",
    "import sys\n",
    "import os\n",
    "import wave\n",
    "import subprocess\n",
    "import pandas as pd"
   ]
  },
  {
   "cell_type": "code",
   "execution_count": 2,
   "metadata": {
    "scrolled": true
   },
   "outputs": [
    {
     "name": "stdout",
     "output_type": "stream",
     "text": [
      "Procesando ESP_AGB-CR[471-(9438729)]_20220325172902.mp3...\n",
      "Procesando ESP_AGB-CR[176-(154641H)]_20220325172550.mp3...\n",
      "Procesando ESP_AGB-CR[650-(030134G)]_20220325172852.mp3...\n",
      "Procesando ESP_AGB-CR[1114-(9723570)]_20220325172525.mp3...\n",
      "Procesando ESP_AGB-CR[2065-(1070585)]_20220325172613.mp3...\n",
      "Procesando ESP_AGB-CR[3083-(1053805)]_20220325172933.mp3...\n",
      "Procesando ESP_AGB-CR[1030-(9359701)]_20220325172923.mp3...\n",
      "Procesando ESP_AGB-CR[1726-(1069983)]_20220325172559.mp3...\n",
      "Procesando ESP_AGB-CR[2043-(1069831)]_20220325172915.mp3...\n",
      "Procesando ESP_AGB-CR[3075-(1048731)]_20220325172953.mp3...\n",
      "Procesando ESP_AGB-CR[1714-(1069802)]_20220325172757.mp3...\n",
      "Procesando ESP_AGB-CR[3815-(9093288)]_20220325172833.mp3...\n",
      "Procesando ESP_AGB-CR[3058-(1038605)]_20220325173003.mp3...\n",
      "Procesando ESP_AGB-CR[2438-(1018995)]_20220325173022.mp3...\n",
      "Procesando ESP_APY-ESC[16328-(15082)]_20220325170117.mp3...\n",
      "Procesando ESP_APY-ESC[20995-(21072)]_20220325170131.mp3...\n",
      "Procesando ESP_APY-ESC[22769-(21781)]_20220325170027.mp3...\n",
      "Procesando ESP_APY-ESC[20977-(22103)]_20220325170101.mp3...\n",
      "Procesando ESP_APY-ESC[19061-(22255)]_20220325165737.mp3...\n",
      "Procesando ESP_APY-ESC[19969-(23589)]_20220325165824.mp3...\n",
      "Procesando ESP_APY-ESC[22602-(23154)]_20220325165706.mp3...\n",
      "Procesando ESP_APY-ESC[22792-(25621)]_20220325165938.mp3...\n",
      "Procesando ESP_APY-ESC[23171-(21473)]_20220325165949.mp3...\n",
      "Procesando ESP_APY-ESC[22510-(21560)]_20220325170013.mp3...\n",
      "Procesando ESP_APY-ESC[13767-(11512)]_20220325170000.mp3...\n",
      "Procesando ESP_APY-ESC[22946-(22190)]_20220325165810.mp3...\n",
      "Procesando ESP_APY-ESC[13079-(10110)]_20220325170138.mp3...\n",
      "Procesando ESP_APY-ESC[22803-(25222)]_20220325165752.mp3...\n",
      "Procesando ESP_APY-ESC[19165-(24659)]_20220325165900.mp3...\n",
      "Procesando ESP_APY-ESC[21251-(23454)]_20220325165645.mp3...\n",
      "Procesando ESP_APY-ESC[21013-(21133)]_20220325170111.mp3...\n",
      "Procesando ESP_APY-ESC[21352-(23579)]_20220325165713.mp3...\n",
      "Procesando ESP_APY-ESC[15315-(18286)]_20220325165800.mp3...\n",
      "Procesando ESP_APY-ESC[18726-(21555)]_20220325165843.mp3...\n",
      "Procesando ESP-EPS-SATS[6449-(302318161)]_20220325170833.mp3...\n",
      "Procesando ESP-EPS-SATS[6871-(302349121)]_20220325170512.mp3...\n",
      "Procesando ESP-EPS-SATS[6588-(302323785)]_20220325170856.mp3...\n",
      "Procesando ESP-EPS-SATS[7536-(302346650)]_20220325170906.mp3...\n",
      "Procesando ESP-EPS-SATS[7399-(302354117)]_20220325170602.mp3...\n",
      "Procesando ESP-EPS-SATS[6464-(302322740)]_20220325170418.mp3...\n",
      "Procesando ESP-EPS-SATS[7715-(302347613)]_20220325170547.mp3...\n",
      "Procesando ESP-EPS-SATS[7206-(302325795)]_20220325170803.mp3...\n",
      "Procesando ESP-EPS-SATS[7582-(302306924)]_20220325170440.mp3...\n",
      "Procesando ESP-EPS-SATS[6816-(302331180)]_20220325170811.mp3...\n",
      "Procesando ESP-EPS-SATS[7548-(302319393)]_20220325170429.mp3...\n",
      "Procesando ESP-EPS-SATS[7109-(302319472)]_20220325170458.mp3...\n",
      "Procesando ESP-EPS-SATS[6921-(302354906)]_20220325170744.mp3...\n",
      "Procesando ESP-EPS-SATS[6529-(302315770)]_20220325170614.mp3...\n",
      "Procesando ESP-EPS-SATS[6935-(302349352)]_20220325170721.mp3...\n",
      "Procesando ESP-EPS-SATS[7108-(302309659)]_20220325170702.mp3...\n",
      "Procesando ESP-EPS-SATS[7204-(302325328)]_20220325170936.mp3...\n",
      "Procesando ESP-EPS-SATS[6536-(302348846)]_20220325170523.mp3...\n",
      "Procesando ESP-EPS-SATS[7131-(302314321)]_20220325170754.mp3...\n",
      "Procesando ESP-MDP-SIN[7576-(1000122315)]_20220325171845.mp3...\n",
      "Procesando ESP-MDP-SIN[7593-(1000120846)]_20220325172415.mp3...\n",
      "Procesando ESP-MDP-SIN[7520-(1000121121)]_20220325171836.mp3...\n",
      "Procesando ESP-MDP-SIN[7806-(1000121839)]_20220325172341.mp3...\n",
      "Procesando ESP-MDP-SIN[7889-(1000122161)]_20220325172227.mp3...\n",
      "Procesando ESP-MDP-SIN[7284-(1000121155)]_20220325172018.mp3...\n",
      "Procesando ESP-MDP-SIN[6694-(3200085119)]_20220325172003.mp3...\n",
      "Procesando ESP-MDP-SIN[6769-(3400085736)]_20220325172237.mp3...\n",
      "Procesando ESP-MDP-SIN[6611-(3200085166)]_20220325171813.mp3...\n",
      "Procesando ESP-MDP-SIN[6689-(3200085173)]_20220325172116.mp3...\n",
      "Procesando ESP-MDP-SIN[7749-(1000121837)]_20220325172219.mp3...\n",
      "Procesando ESP-MDP-SIN[8705-(1000121945)]_20220325171902.mp3...\n",
      "Procesando ESP-MDP-SIN[7568-(1000122158)]_20220325172139.mp3...\n",
      "Procesando ESP-MDP-SIN[6907-(3400085779)]_20220325171935.mp3...\n",
      "Procesando ESP-MDP-SIN[7429-(1000122284)]_20220325172126.mp3...\n",
      "Procesando ESP-MDP-SIN[7895-(1000121424)]_20220325172252.mp3...\n",
      "Procesando ESP-MDP-SIN[8225-(1000121732)]_20220325171802.mp3...\n",
      "Procesando ESP-MDP-SIN[7628-(1000122276)]_20220325171950.mp3...\n",
      "Procesando ESP-MDP-SIN[7643-(1000121038)]_20220325172207.mp3...\n",
      "Procesando ESP-MGS-SIN_PAT[610-(31639454)]_20220325171049.mp3...\n",
      "Procesando ESP-MGS-SIN_PAT[700-(31916418)]_20220325171245.mp3...\n",
      "Procesando ESP-MGS-SIN_PAT[583-(31986162)]_20220325171412.mp3...\n",
      "Procesando ESP-MGS-SIN_PAT[763-(31883587)]_20220325171453.mp3...\n",
      "Procesando ESP-MGS-SIN_PAT[930-(31865286)]_20220325171428.mp3...\n",
      "Procesando ESP-MGS-SIN_PAT[942-(31991015)]_20220325171511.mp3...\n",
      "Procesando ESP-MGS-SIN_PAT[928-(31701915)]_20220325171310.mp3...\n",
      "Procesando ESP-MGS-SIN_PAT[478-(32003798)]_20220325171338.mp3...\n",
      "Procesando ESP-MGS-SIN_PAT[500-(31902333)]_20220325171258.mp3...\n",
      "Procesando ESP-MGS-SIN_PAT[906-(31984248)]_20220325171227.mp3...\n",
      "Procesando ESP-MGS-SIN_PAT[502-(31844844)]_20220325171137.mp3...\n",
      "Procesando ESP-MGS-SIN_PAT[474-(31697660)]_20220325171504.mp3...\n",
      "Procesando ESP-MGS-SIN_PAT[773-(31299958)]_20220325171155.mp3...\n",
      "Procesando ESP-MGS-SIN_PAT[624-(31809600)]_20220325171112.mp3...\n",
      "Procesando ESP-MGS-SIN_PAT[617-(31913966)]_20220325171434.mp3...\n",
      "Procesando ESP-MGS-SIN_PAT[575-(31758881)]_20220325171348.mp3...\n",
      "Procesando ESP-MGS-SIN_PAT[756-(31932208)]_20220325171215.mp3...\n",
      "Procesando ESP-MGS-SIN_PAT[732-(31723563)]_20220325171404.mp3...\n",
      "Procesando ESP-MGS-SIN_PAT[889-(31967247)]_20220325171103.mp3...\n",
      "Procesando ESP-MGS-SIN_PAT[761-(31593973)]_20220325171329.mp3...\n"
     ]
    }
   ],
   "source": [
    "results_esp=[]\n",
    "\n",
    "for source in [\"AGBAR\", \"ASEPEYO\", \"EPSON\", \"MUTUA DE PROPIETARIOS\", \"MUTUA GENERAL DE SEGUROS\"]:\n",
    "    audios_path=f'/home/pau/stiga_asr/Audios Cortados/{source}'\n",
    "    audio_files=os.listdir(audios_path)\n",
    "    cat=[x for x in audio_files if x.startswith('CAT')]\n",
    "    esp=[x for x in audio_files if x.startswith('ESP')]\n",
    "    # processar en catala\n",
    "    SetLogLevel(0)\n",
    "\n",
    "    sample_rate=8_000\n",
    "    model = Model(\"/home/pau/vosk/model_esp\")\n",
    "    rec = KaldiRecognizer(model, sample_rate)\n",
    "    for audio_file in esp:\n",
    "        print(f'Procesando {audio_file}...')\n",
    "\n",
    "        process = subprocess.Popen(['ffmpeg', '-loglevel', 'quiet', '-i',\n",
    "                                audios_path+'/'+audio_file,\n",
    "                                '-ar', str(sample_rate) , '-ac', '1', '-f', 's16le', '-'],\n",
    "                                stdout=subprocess.PIPE)\n",
    "\n",
    "\n",
    "        while True:\n",
    "            data = process.stdout.read(4000)\n",
    "            if len(data) == 0:\n",
    "                break\n",
    "            rec.AcceptWaveform(data)\n",
    "        results_esp.append([source,audio_file,rec.FinalResult()])\n",
    "        \n",
    "\n",
    "    \n",
    "\n",
    "\n",
    "    \n",
    "result_esp_df=pd.DataFrame({'folder':[x[0] for x in results_esp], 'file_name':[x[1] for x in results_esp], 'transcripcion':[eval(x[2])['text'] for x in results_esp]})"
   ]
  },
  {
   "cell_type": "code",
   "execution_count": 8,
   "metadata": {},
   "outputs": [],
   "source": [
    "result_esp_df.to_json(\"res_auto_esp.json\")\n",
    "result_esp_df.to_excel(\"res_auto_esp.xlsx\", )"
   ]
  },
  {
   "cell_type": "code",
   "execution_count": 9,
   "metadata": {},
   "outputs": [
    {
     "name": "stdout",
     "output_type": "stream",
     "text": [
      "Procesando CAT_AGB-CR[1218-(9930617)]_20220325172944.mp3...\n",
      "Procesando CAT_AGB-CR[1269-(042420SB)]_20220325172710.mp3...\n",
      "Procesando CAT_AGB-CR[435-(9225972)]_20220325172537.mp3...\n",
      "Procesando CAT_AGB-CR[1084-(9634312)]_20220325172650.mp3...\n",
      "Procesando CAT_AGB-CR[807-(150876H)]_20220325172741.mp3...\n",
      "Procesando CAT_AGB-CR[13-(004574CS)]_20220325172808.mp3...\n",
      "Procesando CAT-EPS-SATS[7431-(302307602)]_20220325170449.mp3...\n",
      "Procesando CAT-MDP-SIN[7820-(1000121072)]_20220325171609.mp3...\n"
     ]
    }
   ],
   "source": [
    "results_cat=[]\n",
    "\n",
    "for source in ['AGBAR','ASEPEYO','EPSON','MUTUA DE PROPIETARIOS','MUTUA GENERAL DE SEGUROS']:\n",
    "    audios_path=f'/home/pau/stiga_asr/Audios Cortados/{source}'\n",
    "    audio_files=os.listdir(audios_path)\n",
    "    cat=[x for x in audio_files if x.startswith('CAT')]\n",
    "    esp=[x for x in audio_files if x.startswith('ESP')]\n",
    "    # processar en catala\n",
    "    SetLogLevel(0)\n",
    "\n",
    "    sample_rate=8_000\n",
    "    model = Model(\"/home/pau/vosk/model_cat\") \n",
    "    rec = KaldiRecognizer(model, sample_rate)\n",
    "    for audio_file in cat:\n",
    "        print(f'Procesando {audio_file}...')\n",
    "\n",
    "        process = subprocess.Popen(['ffmpeg', '-loglevel', 'quiet', '-i',\n",
    "                                audios_path+'/'+audio_file,\n",
    "                                '-ar', str(sample_rate) , '-ac', '1', '-f', 's16le', '-'],\n",
    "                                stdout=subprocess.PIPE)\n",
    "\n",
    "\n",
    "        while True:\n",
    "            data = process.stdout.read(4000)\n",
    "            if len(data) == 0:\n",
    "                break\n",
    "            rec.AcceptWaveform(data)\n",
    "        results_cat.append([source,audio_file,rec.FinalResult()])\n",
    "        \n",
    "        \n",
    "    \n",
    "\n",
    "\n",
    "    \n",
    "result_cat_df=pd.DataFrame({'folder':[x[0] for x in results_cat], 'file_name':[x[1] for x in results_cat], 'transcripcion':[eval(x[2])['text'] for x in results_cat]})\n",
    "\n"
   ]
  },
  {
   "cell_type": "code",
   "execution_count": 11,
   "metadata": {},
   "outputs": [],
   "source": [
    "result_cat_df.to_excel(\"res_auto_cat.xlsx\")\n",
    "result_cat_df.to_json(\"res_auto_cat.json\")"
   ]
  },
  {
   "cell_type": "code",
   "execution_count": 84,
   "metadata": {},
   "outputs": [],
   "source": [
    "result=pd.DataFrame({'file_name':[x[0] for x in results_esp], 'transcripcion':[eval(x[1])['text'] for x in results_esp]})"
   ]
  },
  {
   "cell_type": "code",
   "execution_count": 1,
   "metadata": {
    "scrolled": true
   },
   "outputs": [
    {
     "ename": "NameError",
     "evalue": "name 'result' is not defined",
     "output_type": "error",
     "traceback": [
      "\u001b[0;31m---------------------------------------------------------------------------\u001b[0m",
      "\u001b[0;31mNameError\u001b[0m                                 Traceback (most recent call last)",
      "\u001b[0;32m<ipython-input-1-0ac921c19f1a>\u001b[0m in \u001b[0;36m<module>\u001b[0;34m\u001b[0m\n\u001b[0;32m----> 1\u001b[0;31m \u001b[0mresult\u001b[0m\u001b[0;34m\u001b[0m\u001b[0;34m\u001b[0m\u001b[0m\n\u001b[0m",
      "\u001b[0;31mNameError\u001b[0m: name 'result' is not defined"
     ]
    }
   ],
   "source": [
    "result"
   ]
  },
  {
   "cell_type": "code",
   "execution_count": null,
   "metadata": {},
   "outputs": [],
   "source": [
    "SetLogLevel(0)\n",
    "\n",
    "sample_rate=8000\n",
    "model = Model(\"/mnt/D/audios_pau_stiga/models/vosk-model-small-es-0.22\")\n",
    "rec = KaldiRecognizer(model, sample_rate)\n",
    "results_esp=[]\n",
    "for audio_file in esp:\n",
    "    print(f'Procesando {audio_file}...')\n",
    "\n",
    "    process = subprocess.Popen(['ffmpeg', '-loglevel', 'quiet', '-i',\n",
    "                            audios_path+'/'+audio_file,\n",
    "                            '-ar', str(sample_rate) , '-ac', '1', '-f', 's16le', '-'],\n",
    "                            stdout=subprocess.PIPE)\n",
    "\n",
    "\n",
    "    while True:\n",
    "        data = process.stdout.read(4000)\n",
    "        if len(data) == 0:\n",
    "            break\n",
    "        rec.AcceptWaveform(data)\n",
    "    results_esp.append([audio_file,rec.FinalResult()])\n"
   ]
  },
  {
   "cell_type": "code",
   "execution_count": 33,
   "metadata": {
    "scrolled": true
   },
   "outputs": [
    {
     "data": {
      "text/plain": [
       "[['ESP_AGB-CR[1030-(9359701)]_20220325172923.mp3',\n",
       "  '{\\n  \"text\" : \"para alguna sugerencia que nos ayuda a mejorar el servicio requerida\"\\n}'],\n",
       " ['ESP_AGB-CR[1114-(9723570)]_20220325172525.mp3',\n",
       "  '{\\n  \"text\" : \"si desea realizar los alguna sugerencia que nos ayude a mejorar el servicio recibido no\"\\n}'],\n",
       " ['ESP_AGB-CR[1714-(1069802)]_20220325172757.mp3',\n",
       "  '{\\n  \"text\" : \"hermanos alguna sugerencia que nos se a la hora de servicio recibido agua congelada cómoda perfecto\"\\n}'],\n",
       " ['ESP_AGB-CR[1726-(1069983)]_20220325172559.mp3',\n",
       "  '{\\n  \"text\" : \"acuerdo a realizar alguna sugerencia que nos ayuda a mejorar el servicio recibido\"\\n}'],\n",
       " ['ESP_AGB-CR[176-(154641H)]_20220325172550.mp3',\n",
       "  '{\\n  \"text\" : \"parece realizarnos alguna sugerencia que nos ayuda a mejorar el servicio recibido se me ocurre nada\"\\n}'],\n",
       " ['ESP_AGB-CR[2043-(1069831)]_20220325172915.mp3',\n",
       "  '{\\n  \"text\" : \"de alguna sugerencia que nos ayude a mejorar el servicio recibido\"\\n}'],\n",
       " ['ESP_AGB-CR[2065-(1070585)]_20220325172613.mp3',\n",
       "  '{\\n  \"text\" : \"desea realizar alguna sugerencia que nos ayuda a mejorar el servicio recibido muy satisfechos\"\\n}'],\n",
       " ['ESP_AGB-CR[2438-(1018995)]_20220325173022.mp3',\n",
       "  '{\\n  \"text\" : \"desea realizar alguna sugerencia que nos ayuda a mejorar el servicio recibida\"\\n}'],\n",
       " ['ESP_AGB-CR[3058-(1038605)]_20220325173003.mp3',\n",
       "  '{\\n  \"text\" : \"es analizarlas alguna sugerencia que nos ayude a mejorar el servicio recibido\"\\n}'],\n",
       " ['ESP_AGB-CR[3075-(1048731)]_20220325172953.mp3',\n",
       "  '{\\n  \"text\" : \"esta sabrosa alguna sugerencia mejorar el servicio recibido no\"\\n}'],\n",
       " ['ESP_AGB-CR[3083-(1053805)]_20220325172933.mp3',\n",
       "  '{\\n  \"text\" : \"realizamos alguna sugerencia que nos ayuda a mejorar el servicio recibido\"\\n}'],\n",
       " ['ESP_AGB-CR[3815-(9093288)]_20220325172833.mp3',\n",
       "  '{\\n  \"text\" : \"realizar alguna sugerencia que nos ayuda a mejorar la eficiencia\"\\n}'],\n",
       " ['ESP_AGB-CR[471-(9438729)]_20220325172902.mp3',\n",
       "  '{\\n  \"text\" : \"de cerveza nos alguna sugerencia que nos ayuda a mejorar el servicio recibido\"\\n}'],\n",
       " ['ESP_AGB-CR[650-(030134G)]_20220325172852.mp3',\n",
       "  '{\\n  \"text\" : \"de que se realizará una sugerencia que nos herida mejora del servicio recibido de yo te digo yo solo me encontraba en esta situación en como me atendieron bien que te puedo decir narra como ideas por correo\"\\n}']]"
      ]
     },
     "execution_count": 33,
     "metadata": {},
     "output_type": "execute_result"
    }
   ],
   "source": []
  },
  {
   "cell_type": "code",
   "execution_count": 2,
   "metadata": {},
   "outputs": [],
   "source": [
    "import pandas as pd\n"
   ]
  },
  {
   "cell_type": "code",
   "execution_count": 12,
   "metadata": {},
   "outputs": [
    {
     "ename": "NameError",
     "evalue": "name 'result_cat' is not defined",
     "output_type": "error",
     "traceback": [
      "\u001b[0;31m---------------------------------------------------------------------------\u001b[0m",
      "\u001b[0;31mNameError\u001b[0m                                 Traceback (most recent call last)",
      "\u001b[0;32m<ipython-input-12-bfd06fd00086>\u001b[0m in \u001b[0;36m<module>\u001b[0;34m\u001b[0m\n\u001b[0;32m----> 1\u001b[0;31m \u001b[0mresult_cat\u001b[0m\u001b[0;34m\u001b[0m\u001b[0;34m\u001b[0m\u001b[0m\n\u001b[0m",
      "\u001b[0;31mNameError\u001b[0m: name 'result_cat' is not defined"
     ]
    }
   ],
   "source": [
    "result_cat"
   ]
  },
  {
   "cell_type": "code",
   "execution_count": 3,
   "metadata": {},
   "outputs": [],
   "source": [
    "gt=pd.read_excel('/home/pau/stiga_asr/audios_stiga.xlsx')"
   ]
  },
  {
   "cell_type": "code",
   "execution_count": 4,
   "metadata": {},
   "outputs": [
    {
     "data": {
      "text/plain": [
       "Index(['AUDIOS', 'Unnamed: 1', 'Unnamed: 2', 'Unnamed: 3',\n",
       "       'TRANSCRIPCIONES (VOSK)', 'Unnamed: 5', 'Unnamed: 6', 'Unnamed: 7',\n",
       "       'Unnamed: 8', 'CORRECIÓN'],\n",
       "      dtype='object')"
      ]
     },
     "execution_count": 4,
     "metadata": {},
     "output_type": "execute_result"
    }
   ],
   "source": [
    "gt.columns"
   ]
  },
  {
   "cell_type": "code",
   "execution_count": 53,
   "metadata": {},
   "outputs": [
    {
     "data": {
      "text/html": [
       "<div>\n",
       "<style scoped>\n",
       "    .dataframe tbody tr th:only-of-type {\n",
       "        vertical-align: middle;\n",
       "    }\n",
       "\n",
       "    .dataframe tbody tr th {\n",
       "        vertical-align: top;\n",
       "    }\n",
       "\n",
       "    .dataframe thead th {\n",
       "        text-align: right;\n",
       "    }\n",
       "</style>\n",
       "<table border=\"1\" class=\"dataframe\">\n",
       "  <thead>\n",
       "    <tr style=\"text-align: right;\">\n",
       "      <th></th>\n",
       "      <th>file_name</th>\n",
       "      <th>transcripcion</th>\n",
       "    </tr>\n",
       "  </thead>\n",
       "  <tbody>\n",
       "    <tr>\n",
       "      <th>0</th>\n",
       "      <td>ESP_AGB-CR[1030-(9359701)]_20220325172923.mp3</td>\n",
       "      <td>para alguna sugerencia que nos ayuda a mejorar...</td>\n",
       "    </tr>\n",
       "    <tr>\n",
       "      <th>1</th>\n",
       "      <td>ESP_AGB-CR[1114-(9723570)]_20220325172525.mp3</td>\n",
       "      <td>si desea realizar los alguna sugerencia que no...</td>\n",
       "    </tr>\n",
       "    <tr>\n",
       "      <th>2</th>\n",
       "      <td>ESP_AGB-CR[1714-(1069802)]_20220325172757.mp3</td>\n",
       "      <td>hermanos alguna sugerencia que nos se a la hor...</td>\n",
       "    </tr>\n",
       "    <tr>\n",
       "      <th>3</th>\n",
       "      <td>ESP_AGB-CR[1726-(1069983)]_20220325172559.mp3</td>\n",
       "      <td>acuerdo a realizar alguna sugerencia que nos a...</td>\n",
       "    </tr>\n",
       "    <tr>\n",
       "      <th>4</th>\n",
       "      <td>ESP_AGB-CR[176-(154641H)]_20220325172550.mp3</td>\n",
       "      <td>parece realizarnos alguna sugerencia que nos a...</td>\n",
       "    </tr>\n",
       "    <tr>\n",
       "      <th>5</th>\n",
       "      <td>ESP_AGB-CR[2043-(1069831)]_20220325172915.mp3</td>\n",
       "      <td>de alguna sugerencia que nos ayude a mejorar e...</td>\n",
       "    </tr>\n",
       "    <tr>\n",
       "      <th>6</th>\n",
       "      <td>ESP_AGB-CR[2065-(1070585)]_20220325172613.mp3</td>\n",
       "      <td>desea realizar alguna sugerencia que nos ayuda...</td>\n",
       "    </tr>\n",
       "    <tr>\n",
       "      <th>7</th>\n",
       "      <td>ESP_AGB-CR[2438-(1018995)]_20220325173022.mp3</td>\n",
       "      <td>desea realizar alguna sugerencia que nos ayuda...</td>\n",
       "    </tr>\n",
       "    <tr>\n",
       "      <th>8</th>\n",
       "      <td>ESP_AGB-CR[3058-(1038605)]_20220325173003.mp3</td>\n",
       "      <td>es analizarlas alguna sugerencia que nos ayude...</td>\n",
       "    </tr>\n",
       "    <tr>\n",
       "      <th>9</th>\n",
       "      <td>ESP_AGB-CR[3075-(1048731)]_20220325172953.mp3</td>\n",
       "      <td>esta sabrosa alguna sugerencia mejorar el serv...</td>\n",
       "    </tr>\n",
       "    <tr>\n",
       "      <th>10</th>\n",
       "      <td>ESP_AGB-CR[3083-(1053805)]_20220325172933.mp3</td>\n",
       "      <td>realizamos alguna sugerencia que nos ayuda a m...</td>\n",
       "    </tr>\n",
       "    <tr>\n",
       "      <th>11</th>\n",
       "      <td>ESP_AGB-CR[3815-(9093288)]_20220325172833.mp3</td>\n",
       "      <td>realizar alguna sugerencia que nos ayuda a mej...</td>\n",
       "    </tr>\n",
       "    <tr>\n",
       "      <th>12</th>\n",
       "      <td>ESP_AGB-CR[471-(9438729)]_20220325172902.mp3</td>\n",
       "      <td>de cerveza nos alguna sugerencia que nos ayuda...</td>\n",
       "    </tr>\n",
       "    <tr>\n",
       "      <th>13</th>\n",
       "      <td>ESP_AGB-CR[650-(030134G)]_20220325172852.mp3</td>\n",
       "      <td>de que se realizará una sugerencia que nos her...</td>\n",
       "    </tr>\n",
       "  </tbody>\n",
       "</table>\n",
       "</div>"
      ],
      "text/plain": [
       "                                        file_name  \\\n",
       "0   ESP_AGB-CR[1030-(9359701)]_20220325172923.mp3   \n",
       "1   ESP_AGB-CR[1114-(9723570)]_20220325172525.mp3   \n",
       "2   ESP_AGB-CR[1714-(1069802)]_20220325172757.mp3   \n",
       "3   ESP_AGB-CR[1726-(1069983)]_20220325172559.mp3   \n",
       "4    ESP_AGB-CR[176-(154641H)]_20220325172550.mp3   \n",
       "5   ESP_AGB-CR[2043-(1069831)]_20220325172915.mp3   \n",
       "6   ESP_AGB-CR[2065-(1070585)]_20220325172613.mp3   \n",
       "7   ESP_AGB-CR[2438-(1018995)]_20220325173022.mp3   \n",
       "8   ESP_AGB-CR[3058-(1038605)]_20220325173003.mp3   \n",
       "9   ESP_AGB-CR[3075-(1048731)]_20220325172953.mp3   \n",
       "10  ESP_AGB-CR[3083-(1053805)]_20220325172933.mp3   \n",
       "11  ESP_AGB-CR[3815-(9093288)]_20220325172833.mp3   \n",
       "12   ESP_AGB-CR[471-(9438729)]_20220325172902.mp3   \n",
       "13   ESP_AGB-CR[650-(030134G)]_20220325172852.mp3   \n",
       "\n",
       "                                        transcripcion  \n",
       "0   para alguna sugerencia que nos ayuda a mejorar...  \n",
       "1   si desea realizar los alguna sugerencia que no...  \n",
       "2   hermanos alguna sugerencia que nos se a la hor...  \n",
       "3   acuerdo a realizar alguna sugerencia que nos a...  \n",
       "4   parece realizarnos alguna sugerencia que nos a...  \n",
       "5   de alguna sugerencia que nos ayude a mejorar e...  \n",
       "6   desea realizar alguna sugerencia que nos ayuda...  \n",
       "7   desea realizar alguna sugerencia que nos ayuda...  \n",
       "8   es analizarlas alguna sugerencia que nos ayude...  \n",
       "9   esta sabrosa alguna sugerencia mejorar el serv...  \n",
       "10  realizamos alguna sugerencia que nos ayuda a m...  \n",
       "11  realizar alguna sugerencia que nos ayuda a mej...  \n",
       "12  de cerveza nos alguna sugerencia que nos ayuda...  \n",
       "13  de que se realizará una sugerencia que nos her...  "
      ]
     },
     "execution_count": 53,
     "metadata": {},
     "output_type": "execute_result"
    }
   ],
   "source": [
    "result"
   ]
  },
  {
   "cell_type": "code",
   "execution_count": null,
   "metadata": {},
   "outputs": [],
   "source": [
    "result.to_json()"
   ]
  },
  {
   "cell_type": "code",
   "execution_count": 63,
   "metadata": {},
   "outputs": [],
   "source": [
    "gt['AUDIOS']=gt.AUDIOS.apply(lambda x: x.strip()+'.mp3' if type(x)==str else None)"
   ]
  },
  {
   "cell_type": "code",
   "execution_count": 62,
   "metadata": {},
   "outputs": [
    {
     "data": {
      "text/plain": [
       "array(['ESP_AGB-CR[1030-(9359701)]_20220325172923.mp3',\n",
       "       'ESP_AGB-CR[1114-(9723570)]_20220325172525.mp3',\n",
       "       'ESP_AGB-CR[1714-(1069802)]_20220325172757.mp3',\n",
       "       'ESP_AGB-CR[1726-(1069983)]_20220325172559.mp3',\n",
       "       'ESP_AGB-CR[176-(154641H)]_20220325172550.mp3',\n",
       "       'ESP_AGB-CR[2043-(1069831)]_20220325172915.mp3',\n",
       "       'ESP_AGB-CR[2065-(1070585)]_20220325172613.mp3',\n",
       "       'ESP_AGB-CR[2438-(1018995)]_20220325173022.mp3',\n",
       "       'ESP_AGB-CR[3058-(1038605)]_20220325173003.mp3',\n",
       "       'ESP_AGB-CR[3075-(1048731)]_20220325172953.mp3',\n",
       "       'ESP_AGB-CR[3083-(1053805)]_20220325172933.mp3',\n",
       "       'ESP_AGB-CR[3815-(9093288)]_20220325172833.mp3',\n",
       "       'ESP_AGB-CR[471-(9438729)]_20220325172902.mp3',\n",
       "       'ESP_AGB-CR[650-(030134G)]_20220325172852.mp3'], dtype=object)"
      ]
     },
     "execution_count": 62,
     "metadata": {},
     "output_type": "execute_result"
    }
   ],
   "source": [
    "result.file_name.unique()"
   ]
  },
  {
   "cell_type": "code",
   "execution_count": 65,
   "metadata": {},
   "outputs": [],
   "source": [
    "total=pd.merge(gt.loc[:,['AUDIOS','CORRECIÓN']],result,how='right',right_on='file_name',left_on='AUDIOS')"
   ]
  },
  {
   "cell_type": "code",
   "execution_count": 67,
   "metadata": {},
   "outputs": [
    {
     "name": "stderr",
     "output_type": "stream",
     "text": [
      "/home/albert/development/python/thn_ds/venv_thn_ds/lib/python3.6/site-packages/ipykernel_launcher.py:1: FutureWarning: Passing a negative integer is deprecated in version 1.0 and will not be supported in future version. Instead, use None to not limit the column width.\n",
      "  \"\"\"Entry point for launching an IPython kernel.\n"
     ]
    }
   ],
   "source": [
    "pd.set_option('display.max_colwidth', -1)"
   ]
  },
  {
   "cell_type": "code",
   "execution_count": 69,
   "metadata": {},
   "outputs": [
    {
     "data": {
      "text/html": [
       "<div>\n",
       "<style scoped>\n",
       "    .dataframe tbody tr th:only-of-type {\n",
       "        vertical-align: middle;\n",
       "    }\n",
       "\n",
       "    .dataframe tbody tr th {\n",
       "        vertical-align: top;\n",
       "    }\n",
       "\n",
       "    .dataframe thead th {\n",
       "        text-align: right;\n",
       "    }\n",
       "</style>\n",
       "<table border=\"1\" class=\"dataframe\">\n",
       "  <thead>\n",
       "    <tr style=\"text-align: right;\">\n",
       "      <th></th>\n",
       "      <th>file_name</th>\n",
       "      <th>CORRECIÓN</th>\n",
       "      <th>transcripcion</th>\n",
       "    </tr>\n",
       "  </thead>\n",
       "  <tbody>\n",
       "    <tr>\n",
       "      <th>0</th>\n",
       "      <td>ESP_AGB-CR[1030-(9359701)]_20220325172923.mp3</td>\n",
       "      <td>\"Desea realizarnos alguna sugerencia que nos ayuda a mejorar el servicio recibido\"\\n\"no\"</td>\n",
       "      <td>para alguna sugerencia que nos ayuda a mejorar el servicio requerida</td>\n",
       "    </tr>\n",
       "    <tr>\n",
       "      <th>1</th>\n",
       "      <td>ESP_AGB-CR[1114-(9723570)]_20220325172525.mp3</td>\n",
       "      <td>\"Y desea realizarnos alguna sugerencia que nos ayuda a mejorar el servicio recibido\"\\n\"no\"</td>\n",
       "      <td>si desea realizar los alguna sugerencia que nos ayude a mejorar el servicio recibido no</td>\n",
       "    </tr>\n",
       "    <tr>\n",
       "      <th>2</th>\n",
       "      <td>ESP_AGB-CR[1714-(1069802)]_20220325172757.mp3</td>\n",
       "      <td>\"Desea realizarnos alguna sugerencia que nos ayuda a mejorar el servicio recibido, algo a comentarnos\"\\n\"Ahora mismo no\"\\n\"Perfecto\"</td>\n",
       "      <td>hermanos alguna sugerencia que nos se a la hora de servicio recibido agua congelada cómoda perfecto</td>\n",
       "    </tr>\n",
       "    <tr>\n",
       "      <th>3</th>\n",
       "      <td>ESP_AGB-CR[1726-(1069983)]_20220325172559.mp3</td>\n",
       "      <td>\"De acuerdo, y desea realizar alguna sugerencia que nos ayuda a mejorar el servicio recibido\"\\n\"no\"</td>\n",
       "      <td>acuerdo a realizar alguna sugerencia que nos ayuda a mejorar el servicio recibido</td>\n",
       "    </tr>\n",
       "    <tr>\n",
       "      <th>4</th>\n",
       "      <td>ESP_AGB-CR[176-(154641H)]_20220325172550.mp3</td>\n",
       "      <td>\"Vale desea realizarnos alguna sugerencia que nos ayuda a mejorar el servicio recibido\"\\n\"no se me ocurre nada\"</td>\n",
       "      <td>parece realizarnos alguna sugerencia que nos ayuda a mejorar el servicio recibido se me ocurre nada</td>\n",
       "    </tr>\n",
       "    <tr>\n",
       "      <th>5</th>\n",
       "      <td>ESP_AGB-CR[2043-(1069831)]_20220325172915.mp3</td>\n",
       "      <td>\"Desea realizarnos alguna sugerencia que nos ayuda a mejorar el servicio recibido\"\\n\"no\"</td>\n",
       "      <td>de alguna sugerencia que nos ayude a mejorar el servicio recibido</td>\n",
       "    </tr>\n",
       "    <tr>\n",
       "      <th>6</th>\n",
       "      <td>ESP_AGB-CR[2065-(1070585)]_20220325172613.mp3</td>\n",
       "      <td>\"Desea realizar alguna sugerencia que nos ayude a mejorar el servicio recibido\"\\n\"No la verdad me encuentro muy satisfecha\"</td>\n",
       "      <td>desea realizar alguna sugerencia que nos ayuda a mejorar el servicio recibido muy satisfechos</td>\n",
       "    </tr>\n",
       "    <tr>\n",
       "      <th>7</th>\n",
       "      <td>ESP_AGB-CR[2438-(1018995)]_20220325173022.mp3</td>\n",
       "      <td>\"Desea realizarnos alguna sugerencia que nos ayude a mejorar el servicio recibido\"\\n\"No\"</td>\n",
       "      <td>desea realizar alguna sugerencia que nos ayuda a mejorar el servicio recibida</td>\n",
       "    </tr>\n",
       "    <tr>\n",
       "      <th>8</th>\n",
       "      <td>ESP_AGB-CR[3058-(1038605)]_20220325173003.mp3</td>\n",
       "      <td>\"Desea realizarnos alguna sugerencia que nos ayude a mejorar el servicio recibido\"\\n\"no\"</td>\n",
       "      <td>es analizarlas alguna sugerencia que nos ayude a mejorar el servicio recibido</td>\n",
       "    </tr>\n",
       "    <tr>\n",
       "      <th>9</th>\n",
       "      <td>ESP_AGB-CR[3075-(1048731)]_20220325172953.mp3</td>\n",
       "      <td>\"Desea realizarnos alguna sugerencia que nos ayude a mejorar el servicio recibido\"\\n\"No\"</td>\n",
       "      <td>esta sabrosa alguna sugerencia mejorar el servicio recibido no</td>\n",
       "    </tr>\n",
       "    <tr>\n",
       "      <th>10</th>\n",
       "      <td>ESP_AGB-CR[3083-(1053805)]_20220325172933.mp3</td>\n",
       "      <td>\"Desea realizarnos alguna sugerencia que nos ayude a mejorar el servicio recibido\"\\n\"No no la verdad\"</td>\n",
       "      <td>realizamos alguna sugerencia que nos ayuda a mejorar el servicio recibido</td>\n",
       "    </tr>\n",
       "    <tr>\n",
       "      <th>11</th>\n",
       "      <td>ESP_AGB-CR[3815-(9093288)]_20220325172833.mp3</td>\n",
       "      <td>\"Y desea realizarnos alguna sugerencia que nos ayude a mejorar el servicio recibido\"\\n\"No ya esta todo bien\"</td>\n",
       "      <td>realizar alguna sugerencia que nos ayuda a mejorar la eficiencia</td>\n",
       "    </tr>\n",
       "    <tr>\n",
       "      <th>12</th>\n",
       "      <td>ESP_AGB-CR[471-(9438729)]_20220325172902.mp3</td>\n",
       "      <td>\"Desea realizarnos alguna sugerencia que nos ayuda a mejorar el servicio recibido\"\\n\"no\"</td>\n",
       "      <td>de cerveza nos alguna sugerencia que nos ayuda a mejorar el servicio recibido</td>\n",
       "    </tr>\n",
       "    <tr>\n",
       "      <th>13</th>\n",
       "      <td>ESP_AGB-CR[650-(030134G)]_20220325172852.mp3</td>\n",
       "      <td>\"Desea realizarnos alguna sugerencia que nos ayuda a mejorar el servicio recibido\"\\n\"No, de momento ya te digo yo solo me encontrado en esta situación y como me atendieron bien que que te voy a decir no no voy a poder, no puedo decir que mal porque fue todo muy bien pues estupendo\"</td>\n",
       "      <td>de que se realizará una sugerencia que nos herida mejora del servicio recibido de yo te digo yo solo me encontraba en esta situación en como me atendieron bien que te puedo decir narra como ideas por correo</td>\n",
       "    </tr>\n",
       "  </tbody>\n",
       "</table>\n",
       "</div>"
      ],
      "text/plain": [
       "                                        file_name  \\\n",
       "0   ESP_AGB-CR[1030-(9359701)]_20220325172923.mp3   \n",
       "1   ESP_AGB-CR[1114-(9723570)]_20220325172525.mp3   \n",
       "2   ESP_AGB-CR[1714-(1069802)]_20220325172757.mp3   \n",
       "3   ESP_AGB-CR[1726-(1069983)]_20220325172559.mp3   \n",
       "4   ESP_AGB-CR[176-(154641H)]_20220325172550.mp3    \n",
       "5   ESP_AGB-CR[2043-(1069831)]_20220325172915.mp3   \n",
       "6   ESP_AGB-CR[2065-(1070585)]_20220325172613.mp3   \n",
       "7   ESP_AGB-CR[2438-(1018995)]_20220325173022.mp3   \n",
       "8   ESP_AGB-CR[3058-(1038605)]_20220325173003.mp3   \n",
       "9   ESP_AGB-CR[3075-(1048731)]_20220325172953.mp3   \n",
       "10  ESP_AGB-CR[3083-(1053805)]_20220325172933.mp3   \n",
       "11  ESP_AGB-CR[3815-(9093288)]_20220325172833.mp3   \n",
       "12  ESP_AGB-CR[471-(9438729)]_20220325172902.mp3    \n",
       "13  ESP_AGB-CR[650-(030134G)]_20220325172852.mp3    \n",
       "\n",
       "                                                                                                                                                                                                                                                                                     CORRECIÓN  \\\n",
       "0   \"Desea realizarnos alguna sugerencia que nos ayuda a mejorar el servicio recibido\"\\n\"no\"                                                                                                                                                                                                     \n",
       "1   \"Y desea realizarnos alguna sugerencia que nos ayuda a mejorar el servicio recibido\"\\n\"no\"                                                                                                                                                                                                   \n",
       "2   \"Desea realizarnos alguna sugerencia que nos ayuda a mejorar el servicio recibido, algo a comentarnos\"\\n\"Ahora mismo no\"\\n\"Perfecto\"                                                                                                                                                         \n",
       "3   \"De acuerdo, y desea realizar alguna sugerencia que nos ayuda a mejorar el servicio recibido\"\\n\"no\"                                                                                                                                                                                          \n",
       "4   \"Vale desea realizarnos alguna sugerencia que nos ayuda a mejorar el servicio recibido\"\\n\"no se me ocurre nada\"                                                                                                                                                                              \n",
       "5   \"Desea realizarnos alguna sugerencia que nos ayuda a mejorar el servicio recibido\"\\n\"no\"                                                                                                                                                                                                     \n",
       "6   \"Desea realizar alguna sugerencia que nos ayude a mejorar el servicio recibido\"\\n\"No la verdad me encuentro muy satisfecha\"                                                                                                                                                                  \n",
       "7   \"Desea realizarnos alguna sugerencia que nos ayude a mejorar el servicio recibido\"\\n\"No\"                                                                                                                                                                                                     \n",
       "8   \"Desea realizarnos alguna sugerencia que nos ayude a mejorar el servicio recibido\"\\n\"no\"                                                                                                                                                                                                     \n",
       "9   \"Desea realizarnos alguna sugerencia que nos ayude a mejorar el servicio recibido\"\\n\"No\"                                                                                                                                                                                                     \n",
       "10  \"Desea realizarnos alguna sugerencia que nos ayude a mejorar el servicio recibido\"\\n\"No no la verdad\"                                                                                                                                                                                        \n",
       "11  \"Y desea realizarnos alguna sugerencia que nos ayude a mejorar el servicio recibido\"\\n\"No ya esta todo bien\"                                                                                                                                                                                 \n",
       "12  \"Desea realizarnos alguna sugerencia que nos ayuda a mejorar el servicio recibido\"\\n\"no\"                                                                                                                                                                                                     \n",
       "13  \"Desea realizarnos alguna sugerencia que nos ayuda a mejorar el servicio recibido\"\\n\"No, de momento ya te digo yo solo me encontrado en esta situación y como me atendieron bien que que te voy a decir no no voy a poder, no puedo decir que mal porque fue todo muy bien pues estupendo\"   \n",
       "\n",
       "                                                                                                                                                                                                     transcripcion  \n",
       "0   para alguna sugerencia que nos ayuda a mejorar el servicio requerida                                                                                                                                            \n",
       "1   si desea realizar los alguna sugerencia que nos ayude a mejorar el servicio recibido no                                                                                                                         \n",
       "2   hermanos alguna sugerencia que nos se a la hora de servicio recibido agua congelada cómoda perfecto                                                                                                             \n",
       "3   acuerdo a realizar alguna sugerencia que nos ayuda a mejorar el servicio recibido                                                                                                                               \n",
       "4   parece realizarnos alguna sugerencia que nos ayuda a mejorar el servicio recibido se me ocurre nada                                                                                                             \n",
       "5   de alguna sugerencia que nos ayude a mejorar el servicio recibido                                                                                                                                               \n",
       "6   desea realizar alguna sugerencia que nos ayuda a mejorar el servicio recibido muy satisfechos                                                                                                                   \n",
       "7   desea realizar alguna sugerencia que nos ayuda a mejorar el servicio recibida                                                                                                                                   \n",
       "8   es analizarlas alguna sugerencia que nos ayude a mejorar el servicio recibido                                                                                                                                   \n",
       "9   esta sabrosa alguna sugerencia mejorar el servicio recibido no                                                                                                                                                  \n",
       "10  realizamos alguna sugerencia que nos ayuda a mejorar el servicio recibido                                                                                                                                       \n",
       "11  realizar alguna sugerencia que nos ayuda a mejorar la eficiencia                                                                                                                                                \n",
       "12  de cerveza nos alguna sugerencia que nos ayuda a mejorar el servicio recibido                                                                                                                                   \n",
       "13  de que se realizará una sugerencia que nos herida mejora del servicio recibido de yo te digo yo solo me encontraba en esta situación en como me atendieron bien que te puedo decir narra como ideas por correo  "
      ]
     },
     "execution_count": 69,
     "metadata": {},
     "output_type": "execute_result"
    }
   ],
   "source": [
    "total.loc[:,['file_name','CORRECIÓN','transcripcion']]"
   ]
  },
  {
   "cell_type": "code",
   "execution_count": 39,
   "metadata": {},
   "outputs": [
    {
     "data": {
      "text/plain": [
       "'para alguna sugerencia que nos ayuda a mejorar el servicio requerida'"
      ]
     },
     "execution_count": 39,
     "metadata": {},
     "output_type": "execute_result"
    }
   ],
   "source": [
    "eval(results_esp[0][1])['text']"
   ]
  },
  {
   "cell_type": "code",
   "execution_count": 22,
   "metadata": {},
   "outputs": [
    {
     "data": {
      "text/plain": [
       "'ESP_AGB-CR[1114-(9723570)]_20220325172525.mp3'"
      ]
     },
     "execution_count": 22,
     "metadata": {},
     "output_type": "execute_result"
    }
   ],
   "source": [
    "audio_files[7]"
   ]
  },
  {
   "cell_type": "code",
   "execution_count": 86,
   "metadata": {},
   "outputs": [
    {
     "name": "stdout",
     "output_type": "stream",
     "text": [
      "huggingface-hub                              0.0.8\n",
      "\u001b[33mWARNING: You are using pip version 20.1.1; however, version 21.3.1 is available.\n",
      "You should consider upgrading via the '/home/albert/development/python/thn_ds/venv_thn_ds/bin/python3.6 -m pip install --upgrade pip' command.\u001b[0m\n"
     ]
    }
   ],
   "source": [
    "!pip list |grep 'huggin'"
   ]
  },
  {
   "cell_type": "code",
   "execution_count": 87,
   "metadata": {},
   "outputs": [],
   "source": [
    "from transformers import pipeline\n"
   ]
  },
  {
   "cell_type": "code",
   "execution_count": null,
   "metadata": {},
   "outputs": [
    {
     "name": "stdout",
     "output_type": "stream",
     "text": [
      "Requirement already satisfied: transformers[sentencepiece,speech] in /home/albert/development/python/thn_ds/venv_thn_ds/lib/python3.6/site-packages (4.5.0)\n",
      "Requirement already satisfied: dataclasses; python_version < \"3.7\" in /home/albert/development/python/thn_ds/venv_thn_ds/lib/python3.6/site-packages (from transformers[sentencepiece,speech]) (0.8)\n",
      "Requirement already satisfied: numpy>=1.17 in /home/albert/development/python/thn_ds/venv_thn_ds/lib/python3.6/site-packages (from transformers[sentencepiece,speech]) (1.19.5)\n",
      "Requirement already satisfied: tqdm>=4.27 in /home/albert/development/python/thn_ds/venv_thn_ds/lib/python3.6/site-packages (from transformers[sentencepiece,speech]) (4.45.0)\n",
      "Requirement already satisfied: regex!=2019.12.17 in /home/albert/development/python/thn_ds/venv_thn_ds/lib/python3.6/site-packages (from transformers[sentencepiece,speech]) (2020.11.13)\n",
      "Requirement already satisfied: sacremoses in /home/albert/development/python/thn_ds/venv_thn_ds/lib/python3.6/site-packages (from transformers[sentencepiece,speech]) (0.0.44)\n",
      "Requirement already satisfied: importlib-metadata; python_version < \"3.8\" in /home/albert/development/python/thn_ds/venv_thn_ds/lib/python3.6/site-packages (from transformers[sentencepiece,speech]) (0.23)\n",
      "Requirement already satisfied: requests in /home/albert/development/python/thn_ds/venv_thn_ds/lib/python3.6/site-packages (from transformers[sentencepiece,speech]) (2.22.0)\n",
      "Requirement already satisfied: packaging in /home/albert/development/python/thn_ds/venv_thn_ds/lib/python3.6/site-packages (from transformers[sentencepiece,speech]) (21.3)\n",
      "Requirement already satisfied: filelock in /home/albert/development/python/thn_ds/venv_thn_ds/lib/python3.6/site-packages (from transformers[sentencepiece,speech]) (3.0.12)\n",
      "Requirement already satisfied: tokenizers<0.11,>=0.10.1 in /home/albert/development/python/thn_ds/venv_thn_ds/lib/python3.6/site-packages (from transformers[sentencepiece,speech]) (0.10.2)\n",
      "Collecting sentencepiece==0.1.91; extra == \"sentencepiece\"\n",
      "  Downloading sentencepiece-0.1.91-cp36-cp36m-manylinux1_x86_64.whl (1.1 MB)\n",
      "\u001b[K     |████████████████████████████████| 1.1 MB 1.7 MB/s eta 0:00:01\n",
      "\u001b[?25hRequirement already satisfied: protobuf; extra == \"sentencepiece\" in /home/albert/development/python/thn_ds/venv_thn_ds/lib/python3.6/site-packages (from transformers[sentencepiece,speech]) (3.19.4)\n",
      "Collecting torchaudio; extra == \"speech\"\n",
      "  Downloading torchaudio-0.10.1-cp36-cp36m-manylinux1_x86_64.whl (2.9 MB)\n",
      "\u001b[K     |████████████████████████████████| 2.9 MB 2.8 MB/s eta 0:00:01\n",
      "\u001b[?25hRequirement already satisfied: soundfile; extra == \"speech\" in /home/albert/development/python/thn_ds/venv_thn_ds/lib/python3.6/site-packages (from transformers[sentencepiece,speech]) (0.10.3.post1)\n",
      "Requirement already satisfied: six in /home/albert/development/python/thn_ds/venv_thn_ds/lib/python3.6/site-packages (from sacremoses->transformers[sentencepiece,speech]) (1.15.0)\n",
      "Requirement already satisfied: click in /home/albert/development/python/thn_ds/venv_thn_ds/lib/python3.6/site-packages (from sacremoses->transformers[sentencepiece,speech]) (7.0)\n",
      "Requirement already satisfied: joblib in /home/albert/development/python/thn_ds/venv_thn_ds/lib/python3.6/site-packages (from sacremoses->transformers[sentencepiece,speech]) (1.1.0)\n",
      "Requirement already satisfied: zipp>=0.5 in /home/albert/development/python/thn_ds/venv_thn_ds/lib/python3.6/site-packages (from importlib-metadata; python_version < \"3.8\"->transformers[sentencepiece,speech]) (0.6.0)\n",
      "Requirement already satisfied: certifi>=2017.4.17 in /home/albert/development/python/thn_ds/venv_thn_ds/lib/python3.6/site-packages (from requests->transformers[sentencepiece,speech]) (2021.10.8)\n",
      "Requirement already satisfied: urllib3!=1.25.0,!=1.25.1,<1.26,>=1.21.1 in /home/albert/development/python/thn_ds/venv_thn_ds/lib/python3.6/site-packages (from requests->transformers[sentencepiece,speech]) (1.25.6)\n",
      "Requirement already satisfied: chardet<3.1.0,>=3.0.2 in /home/albert/development/python/thn_ds/venv_thn_ds/lib/python3.6/site-packages (from requests->transformers[sentencepiece,speech]) (3.0.4)\n",
      "Requirement already satisfied: idna<2.9,>=2.5 in /home/albert/development/python/thn_ds/venv_thn_ds/lib/python3.6/site-packages (from requests->transformers[sentencepiece,speech]) (2.8)\n",
      "Requirement already satisfied: pyparsing!=3.0.5,>=2.0.2 in /home/albert/development/python/thn_ds/venv_thn_ds/lib/python3.6/site-packages (from packaging->transformers[sentencepiece,speech]) (2.4.2)\n",
      "Collecting torch==1.10.1\n",
      "  Downloading torch-1.10.1-cp36-cp36m-manylinux1_x86_64.whl (881.9 MB)\n",
      "\u001b[K     |████████████████████████████████| 881.9 MB 12 kB/s  eta 0:00:013    |██████▎                         | 172.0 MB 3.3 MB/s eta 0:03:36     |█████████████████               | 469.8 MB 2.8 MB/s eta 0:02:29     |████████████████████████████    | 771.6 MB 2.6 MB/s eta 0:00:42     |████████████████████████████▎   | 780.7 MB 2.1 MB/s eta 0:00:49     |███████████████████████████████▉| 877.8 MB 2.3 MB/s eta 0:00:02\n"
     ]
    }
   ],
   "source": [
    "!pip install transformers\"[speech, sentencepiece]\" "
   ]
  },
  {
   "cell_type": "code",
   "execution_count": 88,
   "metadata": {},
   "outputs": [
    {
     "ename": "KeyError",
     "evalue": "\"Unknown task automatic-speech-recognition, available tasks are ['feature-extraction', 'sentiment-analysis', 'ner', 'question-answering', 'table-question-answering', 'fill-mask', 'summarization', 'translation', 'text2text-generation', 'text-generation', 'zero-shot-classification', 'conversational', 'translation_XX_to_YY']\"",
     "output_type": "error",
     "traceback": [
      "\u001b[0;31m---------------------------------------------------------------------------\u001b[0m",
      "\u001b[0;31mKeyError\u001b[0m                                  Traceback (most recent call last)",
      "\u001b[0;32m<ipython-input-88-321720d122f5>\u001b[0m in \u001b[0;36m<module>\u001b[0;34m\u001b[0m\n\u001b[0;32m----> 1\u001b[0;31m \u001b[0masr\u001b[0m \u001b[0;34m=\u001b[0m \u001b[0mpipeline\u001b[0m\u001b[0;34m(\u001b[0m\u001b[0;34m\"automatic-speech-recognition\"\u001b[0m\u001b[0;34m,\u001b[0m \u001b[0mmodel\u001b[0m\u001b[0;34m=\u001b[0m\u001b[0;34m\"PereLluis13/wav2vec2-xls-r-1b-ca-lm\"\u001b[0m\u001b[0;34m,\u001b[0m \u001b[0mfeature_extractor\u001b[0m\u001b[0;34m=\u001b[0m\u001b[0;34m\"PereLluis13/wav2vec2-xls-r-1b-ca-lm\"\u001b[0m\u001b[0;34m)\u001b[0m\u001b[0;34m\u001b[0m\u001b[0;34m\u001b[0m\u001b[0m\n\u001b[0m",
      "\u001b[0;32m~/development/python/thn_ds/venv_thn_ds/lib/python3.6/site-packages/transformers/pipelines/__init__.py\u001b[0m in \u001b[0;36mpipeline\u001b[0;34m(task, model, config, tokenizer, framework, revision, use_fast, model_kwargs, **kwargs)\u001b[0m\n\u001b[1;32m    335\u001b[0m     \"\"\"\n\u001b[1;32m    336\u001b[0m     \u001b[0;31m# Retrieve the task\u001b[0m\u001b[0;34m\u001b[0m\u001b[0;34m\u001b[0m\u001b[0;34m\u001b[0m\u001b[0m\n\u001b[0;32m--> 337\u001b[0;31m     \u001b[0mtargeted_task\u001b[0m\u001b[0;34m,\u001b[0m \u001b[0mtask_options\u001b[0m \u001b[0;34m=\u001b[0m \u001b[0mcheck_task\u001b[0m\u001b[0;34m(\u001b[0m\u001b[0mtask\u001b[0m\u001b[0;34m)\u001b[0m\u001b[0;34m\u001b[0m\u001b[0;34m\u001b[0m\u001b[0m\n\u001b[0m\u001b[1;32m    338\u001b[0m \u001b[0;34m\u001b[0m\u001b[0m\n\u001b[1;32m    339\u001b[0m     \u001b[0;31m# Use default model/config/tokenizer for the task if no model is provided\u001b[0m\u001b[0;34m\u001b[0m\u001b[0;34m\u001b[0m\u001b[0;34m\u001b[0m\u001b[0m\n",
      "\u001b[0;32m~/development/python/thn_ds/venv_thn_ds/lib/python3.6/site-packages/transformers/pipelines/__init__.py\u001b[0m in \u001b[0;36mcheck_task\u001b[0;34m(task)\u001b[0m\n\u001b[1;32m    235\u001b[0m \u001b[0;34m\u001b[0m\u001b[0m\n\u001b[1;32m    236\u001b[0m     raise KeyError(\n\u001b[0;32m--> 237\u001b[0;31m         \u001b[0;34mf\"Unknown task {task}, available tasks are {list(SUPPORTED_TASKS.keys()) + ['translation_XX_to_YY']}\"\u001b[0m\u001b[0;34m\u001b[0m\u001b[0;34m\u001b[0m\u001b[0m\n\u001b[0m\u001b[1;32m    238\u001b[0m     )\n\u001b[1;32m    239\u001b[0m \u001b[0;34m\u001b[0m\u001b[0m\n",
      "\u001b[0;31mKeyError\u001b[0m: \"Unknown task automatic-speech-recognition, available tasks are ['feature-extraction', 'sentiment-analysis', 'ner', 'question-answering', 'table-question-answering', 'fill-mask', 'summarization', 'translation', 'text2text-generation', 'text-generation', 'zero-shot-classification', 'conversational', 'translation_XX_to_YY']\""
     ]
    }
   ],
   "source": [
    "asr = pipeline(\"automatic-speech-recognition\", model=\"PereLluis13/wav2vec2-xls-r-1b-ca-lm\", feature_extractor=\"PereLluis13/wav2vec2-xls-r-1b-ca-lm\")\n"
   ]
  },
  {
   "cell_type": "code",
   "execution_count": null,
   "metadata": {},
   "outputs": [],
   "source": []
  }
 ],
 "metadata": {
  "kernelspec": {
   "display_name": "Python 3",
   "language": "python",
   "name": "python3"
  },
  "language_info": {
   "codemirror_mode": {
    "name": "ipython",
    "version": 3
   },
   "file_extension": ".py",
   "mimetype": "text/x-python",
   "name": "python",
   "nbconvert_exporter": "python",
   "pygments_lexer": "ipython3",
   "version": "3.6.7"
  }
 },
 "nbformat": 4,
 "nbformat_minor": 2
}
