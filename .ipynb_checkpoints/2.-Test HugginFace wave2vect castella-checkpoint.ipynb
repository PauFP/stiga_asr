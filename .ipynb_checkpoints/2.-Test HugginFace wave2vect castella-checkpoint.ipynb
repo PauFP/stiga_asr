{
 "cells": [
  {
   "cell_type": "code",
   "execution_count": 1,
   "id": "informal-colonial",
   "metadata": {
    "scrolled": true
   },
   "outputs": [
    {
     "data": {
      "text/plain": [
       "['/home/pau/.pyenv/versions/3.6.7/lib/python36.zip',\n",
       " '/home/pau/.pyenv/versions/3.6.7/lib/python3.6',\n",
       " '/home/pau/.pyenv/versions/3.6.7/lib/python3.6/lib-dynload',\n",
       " '',\n",
       " '/home/pau/env/lib/python3.6/site-packages',\n",
       " '/home/pau/env/lib/python3.6/site-packages/IPython/extensions',\n",
       " '/home/pau/.ipython']"
      ]
     },
     "execution_count": 1,
     "metadata": {},
     "output_type": "execute_result"
    }
   ],
   "source": [
    "import sys\n",
    "sys.path\n"
   ]
  },
  {
   "cell_type": "code",
   "execution_count": 2,
   "id": "noble-noise",
   "metadata": {},
   "outputs": [
    {
     "name": "stderr",
     "output_type": "stream",
     "text": [
      "No model was supplied, defaulted to distilbert-base-uncased-finetuned-sst-2-english (https://huggingface.co/distilbert-base-uncased-finetuned-sst-2-english)\n"
     ]
    },
    {
     "data": {
      "application/vnd.jupyter.widget-view+json": {
       "model_id": "929170ee18f04416bc7804e27af5e307",
       "version_major": 2,
       "version_minor": 0
      },
      "text/plain": [
       "Downloading:   0%|          | 0.00/629 [00:00<?, ?B/s]"
      ]
     },
     "metadata": {},
     "output_type": "display_data"
    },
    {
     "data": {
      "application/vnd.jupyter.widget-view+json": {
       "model_id": "8b579efb5bdc4ca0a52e0045aa686b08",
       "version_major": 2,
       "version_minor": 0
      },
      "text/plain": [
       "Downloading:   0%|          | 0.00/255M [00:00<?, ?B/s]"
      ]
     },
     "metadata": {},
     "output_type": "display_data"
    },
    {
     "data": {
      "application/vnd.jupyter.widget-view+json": {
       "model_id": "86b6fb16e977422096ee2db7ff4c39dd",
       "version_major": 2,
       "version_minor": 0
      },
      "text/plain": [
       "Downloading:   0%|          | 0.00/48.0 [00:00<?, ?B/s]"
      ]
     },
     "metadata": {},
     "output_type": "display_data"
    },
    {
     "data": {
      "application/vnd.jupyter.widget-view+json": {
       "model_id": "46530769ccd643848943114b8fddce6b",
       "version_major": 2,
       "version_minor": 0
      },
      "text/plain": [
       "Downloading:   0%|          | 0.00/226k [00:00<?, ?B/s]"
      ]
     },
     "metadata": {},
     "output_type": "display_data"
    },
    {
     "name": "stdout",
     "output_type": "stream",
     "text": [
      "[{'label': 'POSITIVE', 'score': 0.9998704195022583}]\n"
     ]
    }
   ],
   "source": [
    "from transformers import pipeline; print(pipeline('sentiment-analysis')('we love you'))"
   ]
  },
  {
   "cell_type": "code",
   "execution_count": 2,
   "id": "e82f073a",
   "metadata": {},
   "outputs": [],
   "source": [
    "import os\n",
    "import pandas as pd\n",
    "import numpy as np"
   ]
  },
  {
   "cell_type": "code",
   "execution_count": 3,
   "id": "chubby-glasgow",
   "metadata": {},
   "outputs": [],
   "source": [
    "from transformers import AutoProcessor, AutoModelForCTC"
   ]
  },
  {
   "cell_type": "code",
   "execution_count": null,
   "id": "114105dd",
   "metadata": {},
   "outputs": [],
   "source": [
    "processor = AutoProcessor.from_pretrained(\"PereLluis13/wav2vec2-xls-r-1b-ca-lm\")\n",
    "\n",
    "model = AutoModelForCTC.from_pretrained(\"PereLluis13/wav2vec2-xls-r-1b-ca-lm\")"
   ]
  },
  {
   "cell_type": "code",
   "execution_count": null,
   "id": "982726b3",
   "metadata": {},
   "outputs": [],
   "source": [
    "! pip install kenlm"
   ]
  },
  {
   "cell_type": "code",
   "execution_count": null,
   "id": "dbbaaf2c",
   "metadata": {},
   "outputs": [],
   "source": [
    "audios_path='/mnt/D/audios_pau_stiga/AGBAR'\n",
    "audio_files=os.listdir(audios_path)"
   ]
  }
 ],
 "metadata": {
  "kernelspec": {
   "display_name": "Python 3",
   "language": "python",
   "name": "python3"
  },
  "language_info": {
   "codemirror_mode": {
    "name": "ipython",
    "version": 3
   },
   "file_extension": ".py",
   "mimetype": "text/x-python",
   "name": "python",
   "nbconvert_exporter": "python",
   "pygments_lexer": "ipython3",
   "version": "3.6.7"
  }
 },
 "nbformat": 4,
 "nbformat_minor": 5
}
