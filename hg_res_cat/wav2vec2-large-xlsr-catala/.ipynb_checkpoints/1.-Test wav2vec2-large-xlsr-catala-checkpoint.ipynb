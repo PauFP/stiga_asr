{
 "cells": [
  {
   "cell_type": "code",
   "execution_count": 1,
   "id": "aa84d0e7",
   "metadata": {},
   "outputs": [],
   "source": [
    "from datasets import load_dataset\n",
    "from transformers import pipeline\n",
    "import os\n",
    "import numpy as np\n",
    "import pandas as pd"
   ]
  },
  {
   "cell_type": "code",
   "execution_count": 2,
   "id": "b87d5acb",
   "metadata": {},
   "outputs": [
    {
     "name": "stderr",
     "output_type": "stream",
     "text": [
      "/home/pau/env/lib/python3.6/site-packages/transformers/configuration_utils.py:359: UserWarning: Passing `gradient_checkpointing` to a config initialization is deprecated and will be removed in v5 Transformers. Using `model.gradient_checkpointing_enable()` instead, or if you are using the `Trainer` API, pass `gradient_checkpointing=True` in your `TrainingArguments`.\n",
      "  \"Passing `gradient_checkpointing` to a config initialization is deprecated and will be removed in v5 \"\n",
      "Special tokens have been added in the vocabulary, make sure the associated word embeddings are fine-tuned or trained.\n"
     ]
    }
   ],
   "source": [
    "asr = pipeline(\"automatic-speech-recognition\", model=\"ccoreilly/wav2vec2-large-xlsr-catala\", feature_extractor=\"ccoreilly/wav2vec2-large-xlsr-catala\")"
   ]
  },
  {
   "cell_type": "code",
   "execution_count": 3,
   "id": "c9153d7b",
   "metadata": {},
   "outputs": [
    {
     "name": "stdout",
     "output_type": "stream",
     "text": [
      "Procesando CAT_AGB-CR[1218-(9930617)]_20220325172944.mp3...\n",
      "Procesando CAT_AGB-CR[1269-(042420SB)]_20220325172710.mp3...\n",
      "Procesando CAT_AGB-CR[435-(9225972)]_20220325172537.mp3...\n",
      "Procesando CAT_AGB-CR[1084-(9634312)]_20220325172650.mp3...\n",
      "Procesando CAT_AGB-CR[807-(150876H)]_20220325172741.mp3...\n",
      "Procesando CAT_AGB-CR[13-(004574CS)]_20220325172808.mp3...\n",
      "Procesando CAT-EPS-SATS[7431-(302307602)]_20220325170449.mp3...\n",
      "Procesando CAT-MDP-SIN[7820-(1000121072)]_20220325171609.mp3...\n"
     ]
    }
   ],
   "source": [
    "results_cat = []\n",
    "\n",
    "for source in [\"AGBAR\", \"ASEPEYO\", \"EPSON\", \"MUTUA DE PROPIETARIOS\", \"MUTUA GENERAL DE SEGUROS\"]:\n",
    "    audios_path = f\"/home/pau/stiga_asr/Audios Cortados/{source}\"\n",
    "    audio_file = os.listdir(audios_path)\n",
    "    cat = [x for x in audio_file if x.startswith(\"CAT\")]\n",
    "    \n",
    "    for audio in cat:\n",
    "        print(f'Procesando {audio}...')\n",
    "        translation = asr(f\"/home/pau/stiga_asr/Audios Cortados/{source}/{audio}\")\n",
    "        results_cat.append([source,audio,translation])\n"
   ]
  },
  {
   "cell_type": "code",
   "execution_count": 4,
   "id": "1e6d154f",
   "metadata": {},
   "outputs": [],
   "source": [
    "result_cat_df=pd.DataFrame({'folder':[x[0] for x in results_cat], 'file_name':[x[1] for x in results_cat], 'transcripcion':[(x[2])['text'] for x in results_cat]})"
   ]
  },
  {
   "cell_type": "code",
   "execution_count": 6,
   "id": "150b5569",
   "metadata": {},
   "outputs": [],
   "source": [
    "result_cat_df.to_excel(\"res_auto_cat.xlsx\")\n",
    "result_cat_df.to_json(\"res_auto_cat.json\")"
   ]
  }
 ],
 "metadata": {
  "kernelspec": {
   "display_name": "Python 3",
   "language": "python",
   "name": "python3"
  },
  "language_info": {
   "codemirror_mode": {
    "name": "ipython",
    "version": 3
   },
   "file_extension": ".py",
   "mimetype": "text/x-python",
   "name": "python",
   "nbconvert_exporter": "python",
   "pygments_lexer": "ipython3",
   "version": "3.6.7"
  }
 },
 "nbformat": 4,
 "nbformat_minor": 5
}
