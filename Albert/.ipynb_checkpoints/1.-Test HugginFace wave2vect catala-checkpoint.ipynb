{
 "cells": [
  {
   "cell_type": "code",
   "execution_count": 3,
   "id": "noble-noise",
   "metadata": {},
   "outputs": [
    {
     "name": "stdout",
     "output_type": "stream",
     "text": [
      "Requirement already satisfied: transformers in /home/albert/development/python_albert/stiga_asr/venv_s2t/lib/python3.10/site-packages (4.18.0)\n",
      "Requirement already satisfied: regex!=2019.12.17 in /home/albert/development/python_albert/stiga_asr/venv_s2t/lib/python3.10/site-packages (from transformers) (2022.4.24)\n",
      "Requirement already satisfied: tqdm>=4.27 in /home/albert/development/python_albert/stiga_asr/venv_s2t/lib/python3.10/site-packages (from transformers) (4.64.0)\n",
      "Requirement already satisfied: packaging>=20.0 in /home/albert/development/python_albert/stiga_asr/venv_s2t/lib/python3.10/site-packages (from transformers) (21.3)\n",
      "Requirement already satisfied: huggingface-hub<1.0,>=0.1.0 in /home/albert/development/python_albert/stiga_asr/venv_s2t/lib/python3.10/site-packages (from transformers) (0.5.1)\n",
      "Requirement already satisfied: tokenizers!=0.11.3,<0.13,>=0.11.1 in /home/albert/development/python_albert/stiga_asr/venv_s2t/lib/python3.10/site-packages (from transformers) (0.12.1)\n",
      "Requirement already satisfied: requests in /home/albert/development/python_albert/stiga_asr/venv_s2t/lib/python3.10/site-packages (from transformers) (2.27.1)\n",
      "Requirement already satisfied: numpy>=1.17 in /home/albert/development/python_albert/stiga_asr/venv_s2t/lib/python3.10/site-packages (from transformers) (1.22.3)\n",
      "Requirement already satisfied: filelock in /home/albert/development/python_albert/stiga_asr/venv_s2t/lib/python3.10/site-packages (from transformers) (3.6.0)\n",
      "Requirement already satisfied: sacremoses in /home/albert/development/python_albert/stiga_asr/venv_s2t/lib/python3.10/site-packages (from transformers) (0.0.49)\n",
      "Requirement already satisfied: pyyaml>=5.1 in /home/albert/development/python_albert/stiga_asr/venv_s2t/lib/python3.10/site-packages (from transformers) (6.0)\n",
      "Requirement already satisfied: typing-extensions>=3.7.4.3 in /home/albert/development/python_albert/stiga_asr/venv_s2t/lib/python3.10/site-packages (from huggingface-hub<1.0,>=0.1.0->transformers) (4.2.0)\n",
      "Requirement already satisfied: pyparsing!=3.0.5,>=2.0.2 in /home/albert/development/python_albert/stiga_asr/venv_s2t/lib/python3.10/site-packages (from packaging>=20.0->transformers) (3.0.8)\n",
      "Requirement already satisfied: urllib3<1.27,>=1.21.1 in /home/albert/development/python_albert/stiga_asr/venv_s2t/lib/python3.10/site-packages (from requests->transformers) (1.26.9)\n",
      "Requirement already satisfied: certifi>=2017.4.17 in /home/albert/development/python_albert/stiga_asr/venv_s2t/lib/python3.10/site-packages (from requests->transformers) (2021.10.8)\n",
      "Requirement already satisfied: idna<4,>=2.5 in /home/albert/development/python_albert/stiga_asr/venv_s2t/lib/python3.10/site-packages (from requests->transformers) (3.3)\n",
      "Requirement already satisfied: charset-normalizer~=2.0.0 in /home/albert/development/python_albert/stiga_asr/venv_s2t/lib/python3.10/site-packages (from requests->transformers) (2.0.12)\n",
      "Requirement already satisfied: joblib in /home/albert/development/python_albert/stiga_asr/venv_s2t/lib/python3.10/site-packages (from sacremoses->transformers) (1.1.0)\n",
      "Requirement already satisfied: click in /home/albert/development/python_albert/stiga_asr/venv_s2t/lib/python3.10/site-packages (from sacremoses->transformers) (8.1.3)\n",
      "Requirement already satisfied: six in /home/albert/development/python_albert/stiga_asr/venv_s2t/lib/python3.10/site-packages (from sacremoses->transformers) (1.16.0)\n"
     ]
    }
   ],
   "source": [
    "! pip install transformers\n"
   ]
  },
  {
   "cell_type": "code",
   "execution_count": 4,
   "id": "e82f073a",
   "metadata": {},
   "outputs": [],
   "source": [
    "import os\n",
    "import pandas as pd\n",
    "import numpy as np"
   ]
  },
  {
   "cell_type": "code",
   "execution_count": 5,
   "id": "chubby-glasgow",
   "metadata": {},
   "outputs": [
    {
     "ename": "ModuleNotFoundError",
     "evalue": "No module named 'transformers'",
     "output_type": "error",
     "traceback": [
      "\u001b[0;31m---------------------------------------------------------------------------\u001b[0m",
      "\u001b[0;31mModuleNotFoundError\u001b[0m                       Traceback (most recent call last)",
      "\u001b[0;32m<ipython-input-5-246b048e8ddc>\u001b[0m in \u001b[0;36m<module>\u001b[0;34m\u001b[0m\n\u001b[0;32m----> 1\u001b[0;31m \u001b[0;32mfrom\u001b[0m \u001b[0mtransformers\u001b[0m \u001b[0;32mimport\u001b[0m \u001b[0mAutoProcessor\u001b[0m\u001b[0;34m,\u001b[0m \u001b[0mAutoModelForCTC\u001b[0m\u001b[0;34m\u001b[0m\u001b[0;34m\u001b[0m\u001b[0m\n\u001b[0m",
      "\u001b[0;31mModuleNotFoundError\u001b[0m: No module named 'transformers'"
     ]
    }
   ],
   "source": [
    "from transformers import AutoProcessor, AutoModelForCTC"
   ]
  },
  {
   "cell_type": "code",
   "execution_count": null,
   "id": "114105dd",
   "metadata": {},
   "outputs": [],
   "source": [
    "\n",
    "\n",
    "processor = AutoProcessor.from_pretrained(\"PereLluis13/wav2vec2-xls-r-1b-ca-lm\")\n",
    "\n",
    "model = AutoModelForCTC.from_pretrained(\"PereLluis13/wav2vec2-xls-r-1b-ca-lm\")"
   ]
  },
  {
   "cell_type": "code",
   "execution_count": null,
   "id": "982726b3",
   "metadata": {},
   "outputs": [],
   "source": [
    "! pip install kenlm"
   ]
  },
  {
   "cell_type": "code",
   "execution_count": null,
   "id": "dbbaaf2c",
   "metadata": {},
   "outputs": [],
   "source": [
    "audios_path='/mnt/D/audios_pau_stiga/AGBAR'\n",
    "audio_files=os.listdir(audios_path)"
   ]
  }
 ],
 "metadata": {
  "kernelspec": {
   "display_name": "Python 3",
   "language": "python",
   "name": "python3"
  },
  "language_info": {
   "codemirror_mode": {
    "name": "ipython",
    "version": 3
   },
   "file_extension": ".py",
   "mimetype": "text/x-python",
   "name": "python",
   "nbconvert_exporter": "python",
   "pygments_lexer": "ipython3",
   "version": "3.6.9"
  }
 },
 "nbformat": 4,
 "nbformat_minor": 5
}
